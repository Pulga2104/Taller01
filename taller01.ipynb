{
 "cells": [
  {
   "cell_type": "markdown",
   "id": "393eef47",
   "metadata": {},
   "source": [
    "# Taller 1\n",
    "\n",
    "Josue Calvopiña\n"
   ]
  },
  {
   "cell_type": "markdown",
   "id": "05265944",
   "metadata": {},
   "source": [
    "# Ejercicio 1\n",
    "\n",
    "¿Cuantos terminos para que *S* = 1 + 1/2 + 1/4 + 1/8 + ..... , hasta que llegue a un $error_{abs} <= 10^{-1}$ "
   ]
  },
  {
   "cell_type": "code",
   "execution_count": 4,
   "id": "3a270d1d",
   "metadata": {},
   "outputs": [
    {
     "name": "stdout",
     "output_type": "stream",
     "text": [
      "Termino 1: 1.0, Suma parcial: 1.0\n",
      "Termino 2: 0.5, Suma parcial: 1.5\n",
      "Termino 3: 0.25, Suma parcial: 1.75\n",
      "Termino 4: 0.125, Suma parcial: 1.875\n",
      "Termino 5: 0.0625, Suma parcial: 1.9375\n",
      "Suma: 1.9375, Numero de terminos: 5, Error ansoluto: 0.0625\n"
     ]
    }
   ],
   "source": [
    "#Algoritmo 1 del Taller\n",
    "\n",
    "v_real =2\n",
    "S = 0\n",
    "n = 0\n",
    "while True:\n",
    "    i = 1/(2**n)\n",
    "    S += i\n",
    "    n += 1\n",
    "    print(f\"Termino {n}: {i}, Suma parcial: {S}\")\n",
    "    arror_abs = abs(v_real - S)\n",
    "    if arror_abs < 10**-1:\n",
    "        break\n",
    "print(f\"Suma: {S}, Numero de terminos: {n}, Error ansoluto: {arror_abs}\")"
   ]
  },
  {
   "cell_type": "markdown",
   "id": "de6f6df8",
   "metadata": {},
   "source": [
    "# Ejercicio 2\n",
    "\n"
   ]
  },
  {
   "cell_type": "code",
   "execution_count": null,
   "id": "fc3b15cf",
   "metadata": {},
   "outputs": [],
   "source": [
    "def bubble_sort(a):\n",
    "    n = len(a)\n",
    "    for i in n:\n",
    "        swapped = False\n",
    "        for j in n-i:\n",
    "            if (a[j])\n",
    "\n",
    "\n",
    "\n",
    "\n",
    "\n"
   ]
  }
 ],
 "metadata": {
  "kernelspec": {
   "display_name": "Python 3",
   "language": "python",
   "name": "python3"
  },
  "language_info": {
   "codemirror_mode": {
    "name": "ipython",
    "version": 3
   },
   "file_extension": ".py",
   "mimetype": "text/x-python",
   "name": "python",
   "nbconvert_exporter": "python",
   "pygments_lexer": "ipython3",
   "version": "3.13.7"
  }
 },
 "nbformat": 4,
 "nbformat_minor": 5
}
